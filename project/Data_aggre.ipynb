{
 "cells": [
  {
   "cell_type": "code",
   "execution_count": 58,
   "metadata": {},
   "outputs": [],
   "source": [
    "import numpy as np\n",
    "from sklearn.preprocessing import MinMaxScaler\n",
    "from sklearn import preprocessing"
   ]
  },
  {
   "cell_type": "code",
   "execution_count": 2,
   "metadata": {},
   "outputs": [],
   "source": [
    "air_threshold = 5"
   ]
  },
  {
   "cell_type": "code",
   "execution_count": 3,
   "metadata": {},
   "outputs": [],
   "source": [
    "app_no = 5"
   ]
  },
  {
   "cell_type": "code",
   "execution_count": 4,
   "metadata": {},
   "outputs": [
    {
     "name": "stdout",
     "output_type": "stream",
     "text": [
      "(8010973, 1)\n",
      "(1600000, 1)\n",
      "(8074277, 1)\n",
      "(1600000, 1)\n",
      "(8054586, 1)\n",
      "(1600000, 1)\n",
      "(7945298, 1)\n",
      "(1600000, 1)\n",
      "(8821597, 1)\n",
      "(1600000, 1)\n"
     ]
    }
   ],
   "source": [
    "fridge_data = np.load('UKData/Fridge freezer0.npy')\n",
    "print(fridge_data.shape)\n",
    "fridge_data = fridge_data[:1600000]\n",
    "print(fridge_data.shape)\n",
    "fridge_data = np.where(fridge_data > air_threshold,fridge_data,0)\n",
    "\n",
    "television_data = np.load('UKData/Television0.npy')\n",
    "print(television_data.shape)\n",
    "television_data = television_data[:1600000]\n",
    "print(television_data.shape)\n",
    "television_data = np.where(television_data > air_threshold, television_data,0)\n",
    "\n",
    "\n",
    "microwave_data = np.load('UKData/Microwave0.npy')\n",
    "print(microwave_data.shape)\n",
    "microwave_data = microwave_data[:1600000]\n",
    "print(microwave_data.shape)\n",
    "microwave_data = np.where(microwave_data > air_threshold, microwave_data,0)\n",
    "\n",
    "washerdryer_data = np.load('UKData/Washer dryer0.npy')\n",
    "print(washerdryer_data.shape)\n",
    "washerdryer_data = washerdryer_data[:1600000]\n",
    "print(washerdryer_data.shape)\n",
    "washerdryer_data = np.where(washerdryer_data > air_threshold, washerdryer_data,0)\n",
    "\n",
    "\n",
    "boiler_data = np.load('UKData/Boiler0.npy')\n",
    "print(boiler_data.shape)\n",
    "boiler_data = boiler_data[:1600000]\n",
    "print(boiler_data.shape)\n",
    "boiler_data = np.where(boiler_data > air_threshold,boiler_data,0)"
   ]
  },
  {
   "cell_type": "code",
   "execution_count": null,
   "metadata": {},
   "outputs": [],
   "source": [
    "#need to do##### Batch loading"
   ]
  },
  {
   "cell_type": "code",
   "execution_count": 47,
   "metadata": {},
   "outputs": [],
   "source": [
    "sum_data = fridge_data + television_data + microwave_data + washerdryer_data + boiler_data\n",
    "\n",
    "app_data = [fridge_data,television_data,microwave_data,washerdryer_data,boiler_data]"
   ]
  },
  {
   "cell_type": "code",
   "execution_count": 48,
   "metadata": {},
   "outputs": [],
   "source": [
    "#Yi qing Part   MinmaxScale/Normalization/ Standardization"
   ]
  },
  {
   "cell_type": "code",
   "execution_count": 98,
   "metadata": {},
   "outputs": [],
   "source": [
    "def Data_MinMaxScale(data):\n",
    "    scaler = MinMaxScaler(feature_range=(0,1))\n",
    "    scaled_data = scaler.fit_transform(data)\n",
    "    return scaled_data\n",
    "\n",
    "def Data_Standardization(data):\n",
    "    \n",
    "    scaled_data = preprocessing.scale(data)\n",
    "    return scaled_data\n",
    "\n",
    "def Data_Normalization(data):\n",
    "    \n",
    "    scaled_data = preprocessing.normalize(data,norm='l2')\n",
    "    return scaled_data"
   ]
  },
  {
   "cell_type": "code",
   "execution_count": null,
   "metadata": {},
   "outputs": [],
   "source": []
  },
  {
   "cell_type": "code",
   "execution_count": 139,
   "metadata": {},
   "outputs": [
    {
     "name": "stdout",
     "output_type": "stream",
     "text": [
      "[[  0.   0.  12. ... 101. 100.  99.]\n",
      " [ 98.  98.  12. ...  12.  12.  12.]\n",
      " [ 98.  97.  97. ...  12.  12.  12.]\n",
      " ...\n",
      " [ 97.  85.  98. ...  76.  76.  76.]\n",
      " [ 12.  12.  12. ...  12.  12.  12.]\n",
      " [ 78.  79.  82. ... 321. 392.  46.]]\n",
      "(3999, 800)\n",
      "[[-0.8644623  -0.86932194 -0.7048366  ...  0.47407678  0.4504763\n",
      "   0.4441217 ]\n",
      " [ 0.4174575   0.43086344 -0.7048366  ... -0.7065648  -0.7105509\n",
      "  -0.708483  ]\n",
      " [ 0.4174575   0.41759622  0.40760082 ... -0.7065648  -0.7105509\n",
      "  -0.708483  ]\n",
      " ...\n",
      " [ 0.37821504  0.40432903  0.3945133  ...  1.6547183   0.3977023\n",
      "   0.39112836]\n",
      " [-0.8644623  -0.86932194 -0.86188656 ...  0.28835788  0.27896088\n",
      "   0.28514174]\n",
      " [ 0.39129585  0.39106184  0.38142583 ...  0.39448297  0.37131533\n",
      "   0.39112836]]\n"
     ]
    },
    {
     "name": "stderr",
     "output_type": "stream",
     "text": [
      "C:\\Users\\Raytine\\anaconda3\\envs\\kera\\lib\\site-packages\\scikit_learn-0.24.1-py3.7-win-amd64.egg\\sklearn\\preprocessing\\_data.py:194: UserWarning: Numerical issues were encountered when centering the data and might not be solved. Dataset may contain too large values. You may need to prescale your features.\n",
      "  warnings.warn(\"Numerical issues were encountered \"\n",
      "C:\\Users\\Raytine\\anaconda3\\envs\\kera\\lib\\site-packages\\scikit_learn-0.24.1-py3.7-win-amd64.egg\\sklearn\\preprocessing\\_data.py:211: UserWarning: Numerical issues were encountered when scaling the data and might not be solved. The standard deviation of the data is probably very close to 0. \n",
      "  warnings.warn(\"Numerical issues were encountered \"\n"
     ]
    }
   ],
   "source": [
    "print(sum_data_agg[0:200])\n",
    "scaled_sum_data = Data_Standardization(sum_data_agg)\n",
    "print(scaled_sum_data.shape)\n",
    "print(scaled_sum_data)"
   ]
  },
  {
   "cell_type": "code",
   "execution_count": 108,
   "metadata": {},
   "outputs": [
    {
     "name": "stdout",
     "output_type": "stream",
     "text": [
      "[[   0.    0.   12. ...  101.  100.   99.]\n",
      " [  98.   98.   12. ...   12.   12.   12.]\n",
      " [  98.   97.   97. ...   12.   12.   12.]\n",
      " ...\n",
      " [  97.   85.   98. ...   76.   76.   76.]\n",
      " [  12.   12.   12. ...   12.   12.   12.]\n",
      " [  78.   79.   82. ...  421. 1592.   46.]]\n",
      "(3999, 800)\n",
      "[[0.         0.         0.0029279  ... 0.02464313 0.02439914 0.02415515]\n",
      " [0.02605338 0.02605338 0.00319021 ... 0.00319021 0.00319021 0.00319021]\n",
      " [0.05157537 0.05104909 0.05104909 ... 0.00631535 0.00631535 0.00631535]\n",
      " ...\n",
      " [0.05958645 0.05221493 0.06020074 ... 0.04668629 0.04668629 0.04668629]\n",
      " [0.0047225  0.0047225  0.0047225  ... 0.0047225  0.0047225  0.0047225 ]\n",
      " [0.01897275 0.01921599 0.01994571 ... 0.10240422 0.38723877 0.01118906]]\n"
     ]
    }
   ],
   "source": [
    "print(sum_data_agg[0:200])\n",
    "scaled_sum_data = Data_Normalization(sum_data_agg)\n",
    "\n",
    "print(scaled_sum_data.shape)\n",
    "print(scaled_sum_data[0:200])"
   ]
  },
  {
   "cell_type": "code",
   "execution_count": 101,
   "metadata": {},
   "outputs": [
    {
     "name": "stdout",
     "output_type": "stream",
     "text": [
      "(1600000, 1)\n",
      "[[0.        ]\n",
      " [0.        ]\n",
      " [0.00282087]\n",
      " ...\n",
      " [0.02233192]\n",
      " [0.02209685]\n",
      " [0.02233192]]\n"
     ]
    }
   ],
   "source": [
    "sum_data = fridge_data + television_data + microwave_data + washerdryer_data + boiler_data\n",
    "scaled_sum_data = Data_MinMaxScale(sum_data)\n",
    "print(scaled_sum_data.shape)\n",
    "print(scaled_sum_data)"
   ]
  },
  {
   "cell_type": "code",
   "execution_count": 137,
   "metadata": {},
   "outputs": [
    {
     "name": "stdout",
     "output_type": "stream",
     "text": [
      "(3999, 800)\n",
      "[[0.         0.         0.03015075 ... 0.25440806 0.25062656 0.2506329 ]\n",
      " [0.24561404 0.24623115 0.03015075 ... 0.0302267  0.03007519 0.03037975]\n",
      " [0.24561404 0.2437186  0.2437186  ... 0.0302267  0.03007519 0.03037975]\n",
      " ...\n",
      " [0.23809524 0.24120602 0.24120602 ... 0.47858942 0.24060151 0.24050634]\n",
      " [0.         0.         0.         ... 0.21914357 0.21804512 0.22025317]\n",
      " [0.24060151 0.23869346 0.23869346 ... 0.23929471 0.23558897 0.24050634]]\n"
     ]
    }
   ],
   "source": [
    "scaled_sum_data = Data_MinMaxScale(sum_data_agg)\n",
    "print(scaled_sum_data.shape)\n",
    "print(scaled_sum_data)"
   ]
  },
  {
   "cell_type": "code",
   "execution_count": 34,
   "metadata": {},
   "outputs": [
    {
     "data": {
      "text/plain": [
       "array([[ 0.],\n",
       "       [ 0.],\n",
       "       [12.],\n",
       "       ...,\n",
       "       [95.],\n",
       "       [94.],\n",
       "       [95.]], dtype=float32)"
      ]
     },
     "execution_count": 34,
     "metadata": {},
     "output_type": "execute_result"
    }
   ],
   "source": []
  },
  {
   "cell_type": "code",
   "execution_count": null,
   "metadata": {},
   "outputs": [],
   "source": [
    "#Zhen Part  data aggregation with slide window"
   ]
  },
  {
   "cell_type": "code",
   "execution_count": 6,
   "metadata": {},
   "outputs": [
    {
     "data": {
      "text/plain": [
       "(1600000, 1)"
      ]
     },
     "execution_count": 6,
     "metadata": {},
     "output_type": "execute_result"
    }
   ],
   "source": [
    "app_data[0].shape"
   ]
  },
  {
   "cell_type": "code",
   "execution_count": 7,
   "metadata": {},
   "outputs": [],
   "source": [
    "step =400\n",
    "window_size=800\n",
    "total_len=1600000"
   ]
  },
  {
   "cell_type": "code",
   "execution_count": null,
   "metadata": {},
   "outputs": [],
   "source": []
  },
  {
   "cell_type": "code",
   "execution_count": 132,
   "metadata": {},
   "outputs": [],
   "source": [
    "temp_start = 0\n",
    "sum_data_agg =[]\n",
    "while temp_start+window_size <=total_len:\n",
    "    temp_data_agg =[]\n",
    "    for i in range (temp_start,temp_start+window_size):\n",
    "        temp_data_agg.append(sum_data[i,0])\n",
    "    sum_data_agg.append(temp_data_agg)\n",
    "    temp_start += step\n",
    "    \n",
    "sum_data_agg=np.array(sum_data_agg)"
   ]
  },
  {
   "cell_type": "code",
   "execution_count": 9,
   "metadata": {},
   "outputs": [],
   "source": [
    "#appliance aggregation\n",
    "temp_start = 0\n",
    "sum_appliance_agg =[]\n",
    "while temp_start+window_size <=total_len:\n",
    "    temp_appliances_agg =[]\n",
    "    for i in range(app_no):\n",
    "        \n",
    "        \n",
    "        temp_appliance_agg=[]\n",
    "        for j in range (temp_start,temp_start+window_size):\n",
    "            \n",
    "            temp_appliance_agg.append(app_data[i][j,0])\n",
    "            \n",
    "        temp_appliances_agg.append(temp_appliance_agg)\n",
    "        \n",
    "    \n",
    "    sum_appliance_agg.append(temp_appliances_agg)\n",
    "    temp_start += step\n",
    "    "
   ]
  },
  {
   "cell_type": "code",
   "execution_count": 131,
   "metadata": {},
   "outputs": [],
   "source": [
    "sum_appliance_agg=np.array(sum_appliance_agg)"
   ]
  },
  {
   "cell_type": "code",
   "execution_count": 11,
   "metadata": {},
   "outputs": [
    {
     "name": "stdout",
     "output_type": "stream",
     "text": [
      "(3999, 5, 800)\n",
      "(3999, 800)\n"
     ]
    }
   ],
   "source": [
    "print(sum_appliance_agg.shape)\n",
    "print(sum_data_agg.shape)"
   ]
  },
  {
   "cell_type": "code",
   "execution_count": 143,
   "metadata": {},
   "outputs": [
    {
     "name": "stdout",
     "output_type": "stream",
     "text": [
      "[[[  0.   0.   0. ...  89.  88.  87.]\n",
      "  [  0.   0.   0. ...   0.   0.   0.]\n",
      "  [  0.   0.   0. ...   0.   0.   0.]\n",
      "  [  0.   0.   0. ...   0.   0.   0.]\n",
      "  [  0.   0.  12. ...  12.  12.  12.]]\n",
      "\n",
      " [[ 86.  86.   0. ...   0.   0.   0.]\n",
      "  [  0.   0.   0. ...   0.   0.   0.]\n",
      "  [  0.   0.   0. ...   0.   0.   0.]\n",
      "  [  0.   0.   0. ...   0.   0.   0.]\n",
      "  [ 12.  12.  12. ...  12.  12.  12.]]\n",
      "\n",
      " [[ 86.  85.  85. ...   0.   0.   0.]\n",
      "  [  0.   0.   0. ...   0.   0.   0.]\n",
      "  [  0.   0.   0. ...   0.   0.   0.]\n",
      "  [  0.   0.   0. ...   0.   0.   0.]\n",
      "  [ 12.  12.  12. ...  12.  12.  12.]]\n",
      "\n",
      " ...\n",
      "\n",
      " [[ 95.  96.  96. ... 190.  96.  95.]\n",
      "  [  0.   0.   0. ...   0.   0.   0.]\n",
      "  [  0.   0.   0. ...   0.   0.   0.]\n",
      "  [  0.   0.   0. ...   0.   0.   0.]\n",
      "  [  0.   0.   0. ...   0.   0.   0.]]\n",
      "\n",
      " [[  0.   0.   0. ...  87.  87.  87.]\n",
      "  [  0.   0.   0. ...   0.   0.   0.]\n",
      "  [  0.   0.   0. ...   0.   0.   0.]\n",
      "  [  0.   0.   0. ...   0.   0.   0.]\n",
      "  [  0.   0.   0. ...   0.   0.   0.]]\n",
      "\n",
      " [[ 96.  95.  95. ...  95.  94.  95.]\n",
      "  [  0.   0.   0. ...   0.   0.   0.]\n",
      "  [  0.   0.   0. ...   0.   0.   0.]\n",
      "  [  0.   0.   0. ...   0.   0.   0.]\n",
      "  [  0.   0.   0. ...   0.   0.   0.]]]\n"
     ]
    }
   ],
   "source": [
    "print(sum_appliance_agg)\n"
   ]
  },
  {
   "cell_type": "code",
   "execution_count": 142,
   "metadata": {},
   "outputs": [
    {
     "name": "stdout",
     "output_type": "stream",
     "text": [
      "[[  0.   0.  12. ... 101. 100.  99.]\n",
      " [ 98.  98.  12. ...  12.  12.  12.]\n",
      " [ 98.  97.  97. ...  12.  12.  12.]\n",
      " ...\n",
      " [ 95.  96.  96. ... 190.  96.  95.]\n",
      " [  0.   0.   0. ...  87.  87.  87.]\n",
      " [ 96.  95.  95. ...  95.  94.  95.]]\n"
     ]
    }
   ],
   "source": [
    "print(sum_data_agg)"
   ]
  },
  {
   "cell_type": "code",
   "execution_count": 12,
   "metadata": {},
   "outputs": [
    {
     "name": "stdout",
     "output_type": "stream",
     "text": [
      "(800,)\n"
     ]
    }
   ],
   "source": [
    "temp_appliance_agg=np.array(temp_appliance_agg)\n",
    "print(temp_appliance_agg.shape)"
   ]
  },
  {
   "cell_type": "code",
   "execution_count": 134,
   "metadata": {},
   "outputs": [],
   "source": [
    "#decrease too large value\n",
    "max_threshold = 300 #manually setted according to the selected appliance\n",
    "for i in range (sum_data_agg.shape[0]):\n",
    "    for j in range (sum_data_agg.shape[1]):\n",
    "        if sum_data_agg[i][j]>max_threshold:\n",
    "            sum_data_agg[i][j] = ((sum_data_agg[i][j]%100) + max_threshold)"
   ]
  },
  {
   "cell_type": "code",
   "execution_count": 135,
   "metadata": {},
   "outputs": [
    {
     "data": {
      "text/plain": [
       "array([  0.,   0.,  12.,  12.,   0.,  12.,   0.,   0.,  12.,  12.,   0.,\n",
       "         0.,  12.,  12.,   0.,   0.,   0.,  12.,  12.,   0.,  12.,   0.,\n",
       "         0.,  12.,  12.,  12.,  12.,  12.,  12.,  12.,  12.,  12.,  12.,\n",
       "        12.,   0.,  12.,  12.,  12.,  12.,  12.,  12.,  12.,  12.,   0.,\n",
       "       111., 104., 103., 102., 101., 101., 100., 100.,  99., 100., 100.,\n",
       "        97.,  95.,  95.,  95.,  96.,  95.,  95.,  95.,  83.,  95.,  84.,\n",
       "        96.,  96.,  96.,  96.,  98.,  97.,  98.,  98.,  99.,  99.,  99.,\n",
       "        99.,  99.,  99., 100.,  99., 100., 100., 101., 100., 100., 101.,\n",
       "       100., 101., 101., 101., 101., 101., 101., 101., 100., 101., 101.,\n",
       "       101., 101., 101., 101., 101., 102., 101., 101., 100., 101., 101.,\n",
       "       101., 102., 100., 100., 100.,  89., 100.,  99., 100., 100.,  99.,\n",
       "        99.,  99.,  98.,  99.,  99.,  98.,  99.,  98.,  98.,  99.,  98.,\n",
       "        98.,  98.,  98.,  98.,  98.,  98.,  99.,  98.,  98.,  98.,  98.,\n",
       "        98.,  98.,  98.,  98.,  98.,  98.,  98.,  97.,  97.,  98.,  97.,\n",
       "        97.,  86.,  86.,  98.,  97.,  98.,  99.,  98.,  98.,  97.,  97.,\n",
       "        98.,  98.,  98.,  98.,  97.,  98.,  98.,  98.,  98.,  98.,  97.,\n",
       "        97.,  98.,  98.,  98.,  98.,  98.,  98.,  98.,  98.,  86.,  98.,\n",
       "        98.,  98.,  99.,  98.,  97.,  97.,  98.,  98.,  98.,  98.,  97.,\n",
       "        98.,  98.,  98.,  98.,  98.,  98.,  98.,  98.,  97.,  97.,  98.,\n",
       "        98.,  98.,  97.,  98.,  98.,  98.,  86.,  98.,  98.,  86.,  99.,\n",
       "        98.,  86.,  98.,  98.,  98.,  97.,  98.,  98.,  98.,  98.,  98.,\n",
       "        98.,  98.,  98.,  98.,  98.,  98.,  98.,  98.,  98.,  98.,  98.,\n",
       "        98.,  98.,  98.,  98.,  98.,  98.,  98.,  98.,  98.,  98.,  98.,\n",
       "        98.,  99.,  99.,  98.,  98.,  98.,  98.,  97.,  98.,  98.,  98.,\n",
       "        98.,  99.,  98.,  98.,  98.,  98.,  98.,  98.,  98.,  99.,  98.,\n",
       "        98.,  97.,  98.,  98.,  98.,  98.,  98.,  98.,  98.,  98.,  98.,\n",
       "        98.,  98.,  98.,  98.,  98.,  98.,  98.,  98.,  98.,  98.,  98.,\n",
       "        98.,  98.,  98.,  98.,  98.,  98.,  98.,  98.,  98.,  98.,  98.,\n",
       "        98.,  98.,  98.,  98.,  98.,  98.,  98.,  98.,  98.,  98.,  98.,\n",
       "        98.,  98.,  98.,  98.,  98.,  98.,  99.,  98.,  98.,  98.,  98.,\n",
       "        98., 184.,  98.,  97.,  97.,  98.,  99.,  98.,  98.,  98.,  98.,\n",
       "        98.,  98.,  98.,  98.,  98.,  86.,  98.,  97.,  99.,  98.,  98.,\n",
       "        98.,  98.,  98.,  98.,  98.,  98.,  98.,  98.,  98.,  98.,  98.,\n",
       "        98.,  98.,  98.,  98.,  98.,  98.,  98.,  98.,  98.,  98.,  98.,\n",
       "        98.,  97.,  98.,  98.,  98.,  98.,  98.,  98.,  98.,  98.,  98.,\n",
       "        98.,  98.,  98.,  98.,  98.,  98.,  98.,  98.,  98.,  98.,  99.,\n",
       "        98.,  98.,  98.,  98.,  98.,  98.,  12.,  12.,  12.,  12.,  12.,\n",
       "        12.,  12.,  12.,  12.,  12.,  12.,  12.,   0.,  12.,  12.,  12.,\n",
       "        12.,  12.,  12.,  12.,  12.,  12.,  12.,  12.,  12.,  12.,  12.,\n",
       "        12.,  12.,  12.,  12.,  12.,   0.,  12.,  12.,  12.,  12.,  12.,\n",
       "        12.,  12.,  12.,  12.,  12.,  12.,  12.,  12.,  12.,  12.,  12.,\n",
       "        12.,  12.,  12.,  12.,  12.,  12.,   0.,  12.,  12.,  12.,  12.,\n",
       "        12.,  12.,  12.,  12.,  12.,  12.,  12.,  12.,  12.,  12.,  12.,\n",
       "        12.,  12.,  12.,  12.,  12.,  12.,  12.,  12.,  12.,  12.,  12.,\n",
       "        12.,  12.,  12.,  12.,  12.,  12.,  12.,  12.,  12.,  12.,  12.,\n",
       "        12.,  12.,  12.,  12.,  12.,  12.,  12.,  12.,  12.,  12.,  12.,\n",
       "        12.,  12.,  12.,  12.,  12.,  12.,  12.,  12.,  12.,  12.,  12.,\n",
       "        12.,  12.,  12.,  12.,  12.,  12.,  12.,  12.,  12.,  12.,  12.,\n",
       "        12.,  12.,  12.,  12.,  12.,  12.,  12.,  12.,  12.,  12.,  12.,\n",
       "        12.,  12.,  12.,  12.,  12.,  12.,  12.,  12.,  12.,  12.,  12.,\n",
       "        12.,  12.,  12.,  12.,  12.,  12.,  12.,   0.,  12.,  12.,  12.,\n",
       "        12.,  12.,  12.,  12.,  12.,  12.,  12.,  12.,  12.,  12.,  12.,\n",
       "        12.,  12.,  12.,  12.,  12.,  12.,  12.,  12.,  12.,  12.,  12.,\n",
       "        12.,  12.,  12.,  12.,  12.,  12.,  12.,  12.,  12.,  12.,  12.,\n",
       "         0.,  12.,   0.,  12.,  29.,  12.,  12., 330., 329., 338., 309.,\n",
       "       312.,  12.,  12.,  12.,  12.,  12.,  12.,  12.,  12.,  12.,  12.,\n",
       "        12.,  12.,   0.,  12.,  12.,  12.,  12.,  12.,  12.,  12.,  12.,\n",
       "        12.,  12.,  12.,  12.,  12.,  12.,  12.,  12.,  12.,  12.,  12.,\n",
       "        12.,  12.,  12.,  12.,  12.,   0.,   0.,   0.,   0.,   0.,  12.,\n",
       "        12.,   0.,  12.,   0.,  12.,  12.,  12.,  12.,  12.,  12.,  12.,\n",
       "        12.,  12.,  12.,  12.,  12.,  12.,  12.,  12.,  12.,  12.,  12.,\n",
       "        12.,  12.,  12.,   0.,  12.,  12.,   0.,  12.,  12.,  12.,  12.,\n",
       "        12.,  12.,  12.,  12.,  12.,  12.,  12.,  12.,  12.,  12.,  12.,\n",
       "        12.,  12.,  12.,   0.,  12.,  12.,  12.,  12.,   0.,  12.,  12.,\n",
       "        12.,  12.,  12.,   0.,   0.,  12.,  12.,   0.,  12.,   0.,  12.,\n",
       "         0.,  12.,  12.,  12.,  12.,   0.,  12.,  12.,  12.,   0.,   0.,\n",
       "        12.,  12.,  12.,  12.,  12.,   0.,  12.,  12.,  12.,  12.,  12.,\n",
       "        12.,  12.,  12.,  12.,  12.,  12.,  12.,  12.,  12.,  12.,  12.,\n",
       "        12.,  12.,  12.,  12.,  12.,  12.,  12.,  12.,  12.,   0.,  12.,\n",
       "        12.,  12.,  12.,  12.,  12.,  12.,  12.,   0.,  12.,  12.,  12.,\n",
       "        12.,  12.,  12.,  12.,  12.,   0.,   0.,  12.,  12.,  12.,  12.,\n",
       "        12.,  12.,  12.,  12.,  12.,  12.,  12.,  12.,  12.,  12., 111.,\n",
       "       110., 106., 105., 104., 103., 101., 100.,  99.], dtype=float32)"
      ]
     },
     "execution_count": 135,
     "metadata": {},
     "output_type": "execute_result"
    }
   ],
   "source": [
    "sum_data_agg[0]"
   ]
  },
  {
   "cell_type": "code",
   "execution_count": 129,
   "metadata": {},
   "outputs": [
    {
     "data": {
      "text/plain": [
       "3.0"
      ]
     },
     "execution_count": 129,
     "metadata": {},
     "output_type": "execute_result"
    }
   ],
   "source": [
    "sum_data_agg[0][0] %100"
   ]
  },
  {
   "cell_type": "code",
   "execution_count": null,
   "metadata": {},
   "outputs": [],
   "source": []
  }
 ],
 "metadata": {
  "kernelspec": {
   "display_name": "Python [conda env:kera]",
   "language": "python",
   "name": "conda-env-kera-py"
  },
  "language_info": {
   "codemirror_mode": {
    "name": "ipython",
    "version": 3
   },
   "file_extension": ".py",
   "mimetype": "text/x-python",
   "name": "python",
   "nbconvert_exporter": "python",
   "pygments_lexer": "ipython3",
   "version": "3.7.10"
  }
 },
 "nbformat": 4,
 "nbformat_minor": 5
}
