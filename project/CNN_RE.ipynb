{
 "cells": [
  {
   "cell_type": "code",
   "execution_count": 17,
   "metadata": {},
   "outputs": [],
   "source": [
    "import numpy as np\n",
    "import os\n",
    "import numpy as np\n",
    "import matplotlib.pyplot as plt\n",
    "from keras.models import Sequential\n",
    "from keras import layers\n",
    "from keras.optimizers import RMSprop\n",
    "from keras.models import load_model\n",
    "\n",
    "from keras import losses"
   ]
  },
  {
   "cell_type": "code",
   "execution_count": 2,
   "metadata": {},
   "outputs": [],
   "source": [
    "dimension = 6 #电器的个数\n",
    "\n",
    "#电器id定义\n",
    "fridge_id = 0\n",
    "tv_id = 1\n",
    "kettle_id = 2\n",
    "microwave_id = 3\n",
    "washerdryer_id = 4\n",
    "boiler_id=5\n",
    "\n",
    "#电器开启状态阈值\n",
    "fridge_threshold = 20\n",
    "tv_threshold = 20\n",
    "kettle_threshold = 20\n",
    "microwave_threshold = 10\n",
    "washerdryer_threshold = 0\n",
    "boiler_threshold = 10\n",
    "#消噪音阈值\n",
    "air_threshold = 5"
   ]
  },
  {
   "cell_type": "code",
   "execution_count": 4,
   "metadata": {},
   "outputs": [
    {
     "name": "stdout",
     "output_type": "stream",
     "text": [
      "(8010973, 1)\n",
      "(1600000, 1)\n",
      "(8074277, 1)\n",
      "(1600000, 1)\n",
      "(7908322, 1)\n",
      "(1600000, 1)\n",
      "(8054586, 1)\n",
      "(1600000, 1)\n",
      "(7945298, 1)\n",
      "(1600000, 1)\n",
      "(8821597, 1)\n",
      "(1600000, 1)\n"
     ]
    }
   ],
   "source": [
    "fridge_data = np.load('UKData/Fridge freezer0.npy')\n",
    "print(fridge_data.shape)\n",
    "fridge_data = fridge_data[:1600000]\n",
    "print(fridge_data.shape)\n",
    "fridge_data = np.where(fridge_data > air_threshold,fridge_data,0)\n",
    "\n",
    "television_data = np.load('UKData/Television0.npy')\n",
    "print(television_data.shape)\n",
    "television_data = television_data[:1600000]\n",
    "print(television_data.shape)\n",
    "television_data = np.where(television_data > air_threshold, television_data,0)\n",
    "\n",
    "kettle_data = np.load('UKData/Kettle0.npy')\n",
    "print(kettle_data.shape)\n",
    "kettle_data = kettle_data[0:1600000]\n",
    "print(kettle_data.shape)\n",
    "kettle_data = np.where(kettle_data > air_threshold, kettle_data,0)\n",
    "\n",
    "\n",
    "microwave_data = np.load('UKData/Microwave0.npy')\n",
    "print(microwave_data.shape)\n",
    "microwave_data = microwave_data[:1600000]\n",
    "print(microwave_data.shape)\n",
    "microwave_data = np.where(microwave_data > air_threshold, microwave_data,0)\n",
    "\n",
    "washerdryer_data = np.load('UKData/Washer dryer0.npy')\n",
    "print(washerdryer_data.shape)\n",
    "washerdryer_data = washerdryer_data[:1600000]\n",
    "print(washerdryer_data.shape)\n",
    "washerdryer_data = np.where(washerdryer_data > air_threshold, washerdryer_data,0)\n",
    "\n",
    "\n",
    "boiler_data = np.load('UKData/Boiler0.npy')\n",
    "print(boiler_data.shape)\n",
    "boiler_data = boiler_data[:1600000]\n",
    "print(boiler_data.shape)\n",
    "boiler_data = np.where(boiler_data > air_threshold,boiler_data,0)"
   ]
  },
  {
   "cell_type": "code",
   "execution_count": 5,
   "metadata": {},
   "outputs": [],
   "source": [
    "def create_label(data, application_id, power_threshold, dimension):\n",
    "    labels = np.zeros((len(data), dimension))\n",
    "    for i, value in enumerate(data):\n",
    "        if value[0] > power_threshold:\n",
    "            labels[i,application_id] = value[0]\n",
    "    return labels"
   ]
  },
  {
   "cell_type": "code",
   "execution_count": 7,
   "metadata": {},
   "outputs": [],
   "source": [
    "fridge_labels = create_label(fridge_data,fridge_id,fridge_threshold,dimension)\n",
    "tv_labels = create_label(television_data,tv_id,tv_threshold,dimension)\n",
    "kettle_labels = create_label(kettle_data,kettle_id,kettle_threshold,dimension)\n",
    "microwave_labels = create_label(microwave_data,microwave_id,microwave_threshold,dimension)\n",
    "washerdryer_labels = create_label(washerdryer_data,washerdryer_id,washerdryer_threshold,dimension)\n",
    "boiler_labels = create_label(boiler_data,boiler_id,boiler_threshold,dimension)\n",
    "sum_label = fridge_labels + tv_labels + kettle_labels + microwave_labels + washerdryer_labels + boiler_labels\n",
    "sum_data_num = fridge_data + television_data + kettle_data + microwave_data + washerdryer_data + boiler_data\n"
   ]
  },
  {
   "cell_type": "code",
   "execution_count": 12,
   "metadata": {},
   "outputs": [
    {
     "name": "stdout",
     "output_type": "stream",
     "text": [
      "[[ 0.  0.  0.  0.  0.  0.]\n",
      " [ 0.  0.  0.  0.  0.  0.]\n",
      " [ 0.  0.  0.  0.  0. 12.]\n",
      " ...\n",
      " [95.  0.  0.  0.  0.  0.]\n",
      " [94.  0.  0.  0.  0.  0.]\n",
      " [95.  0.  0.  0.  0.  0.]]\n",
      "[[ 0.]\n",
      " [ 0.]\n",
      " [12.]\n",
      " ...\n",
      " [95.]\n",
      " [94.]\n",
      " [95.]]\n"
     ]
    }
   ],
   "source": [
    "sum_data=sum_data_num\n",
    "print(sum_label)\n",
    "print(sum_data_num)"
   ]
  },
  {
   "cell_type": "code",
   "execution_count": 9,
   "metadata": {},
   "outputs": [],
   "source": [
    "def generator(data, label, lookback, delay, min_index, max_index, shuffle=False, batch_size=128, step=1):\n",
    "    if max_index is None:\n",
    "        max_index = len(data) - delay - 1\n",
    "    i = min_index + lookback\n",
    "    while 1:\n",
    "        if shuffle:\n",
    "            rows = np.random.randint(min_index + lookback, max_index, size=batch_size)\n",
    "        else:\n",
    "            if i + batch_size >= max_index:\n",
    "                i = min_index + lookback\n",
    "            rows = np.arange(i, min(i + batch_size, max_index))\n",
    "            i += len(rows)\n",
    "\n",
    "        samples = np.zeros((len(rows),\n",
    "                            lookback // step,\n",
    "                            data.shape[-1]))\n",
    "        targets = np.zeros((len(rows),dimension))\n",
    "        for j, row in enumerate(rows):\n",
    "            indices = range(rows[j] - lookback, rows[j], step)\n",
    "            samples[j] = data[indices]\n",
    "            targets[j] = label[rows[j] + delay]\n",
    "        yield samples, targets"
   ]
  },
  {
   "cell_type": "code",
   "execution_count": 10,
   "metadata": {},
   "outputs": [],
   "source": [
    "lookback = 20\n",
    "step = 1\n",
    "delay = 0\n",
    "batch_size = 128"
   ]
  },
  {
   "cell_type": "code",
   "execution_count": 13,
   "metadata": {},
   "outputs": [],
   "source": [
    "train_gen = generator(sum_data,\n",
    "                      sum_label,\n",
    "                      lookback=lookback,\n",
    "                      delay=delay,\n",
    "                      min_index=0,\n",
    "                      max_index=800000,\n",
    "                      shuffle=True,\n",
    "                      step=step,\n",
    "                      batch_size=batch_size)\n",
    "\n",
    "val_gen = generator(sum_data,\n",
    "                    sum_label,\n",
    "                    lookback=lookback,\n",
    "                    delay=delay,\n",
    "                    min_index=800001,\n",
    "                    max_index=1200000,\n",
    "                    step=step,\n",
    "                    batch_size=batch_size)\n",
    "test_gen = generator(sum_data,\n",
    "                    sum_label,\n",
    "                    lookback=lookback,\n",
    "                    delay=delay,\n",
    "                    min_index=1200001,\n",
    "                    max_index=None,\n",
    "                    step=step,\n",
    "                    batch_size=batch_size)\n",
    "train_steps = 800000 // batch_size\n",
    "val_steps = (1200000 - 800001 -lookback) // batch_size\n",
    "test_steps = (len(sum_data) - 1200001 -lookback) // batch_size"
   ]
  },
  {
   "cell_type": "code",
   "execution_count": 24,
   "metadata": {},
   "outputs": [
    {
     "name": "stdout",
     "output_type": "stream",
     "text": [
      "Epoch 1/5\n",
      "6250/6250 [==============================] - 23s 4ms/step - loss: 15220.6900 - mae: 19.2943 - val_loss: 61487.2930 - val_mae: 13.7515\n",
      "Epoch 2/5\n",
      "6250/6250 [==============================] - 23s 4ms/step - loss: 15419.5124 - mae: 19.3781 - val_loss: 61487.2812 - val_mae: 13.7350\n",
      "Epoch 3/5\n",
      "6250/6250 [==============================] - 24s 4ms/step - loss: 15213.0204 - mae: 19.2793 - val_loss: 61487.2734 - val_mae: 13.7191\n",
      "Epoch 4/5\n",
      "6250/6250 [==============================] - 24s 4ms/step - loss: 15271.7804 - mae: 19.3233 - val_loss: 61487.2734 - val_mae: 13.7015\n",
      "Epoch 5/5\n",
      "6250/6250 [==============================] - 23s 4ms/step - loss: 15099.3823 - mae: 19.2454 - val_loss: 61487.2695 - val_mae: 13.6765\n"
     ]
    }
   ],
   "source": [
    "model = Sequential()\n",
    "model.add(layers.Conv1D(32, 5, activation='relu', input_shape=(None,sum_data.shape[-1])))\n",
    "model.add(layers.MaxPooling1D(3))\n",
    "model.add(layers.Conv1D(32, 5, activation='relu'))\n",
    "model.add(layers.LSTM(32, dropout=0.1))\n",
    "# model.add(layers.GlobalMaxPooling1D())\n",
    "model.add(layers.Dense(dimension,activation='sigmoid'))\n",
    "\n",
    "model.compile(loss='mse',optimizer='sgd',metrics=['mae'])\n",
    "history = model.fit_generator(train_gen,\n",
    "                              steps_per_epoch=train_steps,\n",
    "                              epochs=5,\n",
    "                              validation_data=val_gen,\n",
    "                              validation_steps=val_steps)\n",
    "loss = history.history['loss']\n",
    "val_loss = history.history['val_loss']\n",
    "\n",
    "epochs = range(1,len(loss)+1)\n",
    "\n"
   ]
  },
  {
   "cell_type": "code",
   "execution_count": 26,
   "metadata": {},
   "outputs": [
    {
     "name": "stdout",
     "output_type": "stream",
     "text": [
      "test mae:  14.057823181152344\n"
     ]
    }
   ],
   "source": [
    "test_loss, test_mae = model.evaluate_generator(test_gen,steps=test_steps)\n",
    "print('test mae: ', test_mae)"
   ]
  },
  {
   "cell_type": "code",
   "execution_count": 27,
   "metadata": {},
   "outputs": [
    {
     "data": {
      "image/png": "[encoded data removed]",
      "text/plain": [
       "<Figure size 432x288 with 1 Axes>"
      ]
     },
     "metadata": {
      "needs_background": "light"
     },
     "output_type": "display_data"
    },
    {
     "data": {
      "image/png": "[encoded data removed]",
      "text/plain": [
       "<Figure size 432x288 with 1 Axes>"
      ]
     },
     "metadata": {
      "needs_background": "light"
     },
     "output_type": "display_data"
    }
   ],
   "source": [
    "plt.plot(epochs, loss, 'bo', label='Training loss')\n",
    "plt.plot(epochs, val_loss, 'b', label='Validation loss')\n",
    "plt.title('Training and Validation loss')\n",
    "# plt.legend()\n",
    "plt.show()\n",
    "\n",
    "plt.clf() #清空图表\n",
    "\n",
    "acc_values = history.history['mae']\n",
    "val_acc_values  = history.history['val_mae']\n",
    "\n",
    "plt.plot(epochs,acc_values,'bo',label='Training acc') #bo是蓝色圆点\n",
    "plt.plot(epochs,val_acc_values,'b',label='Validation acc') #b是蓝色实线\n",
    "plt.title('Training and validation MAE')\n",
    "plt.legend()\n",
    "plt.show()\n"
   ]
  },
  {
   "cell_type": "code",
   "execution_count": null,
   "metadata": {},
   "outputs": [],
   "source": []
  }
 ],
 "metadata": {
  "kernelspec": {
   "display_name": "Python [conda env:kera] *",
   "language": "python",
   "name": "conda-env-kera-py"
  },
  "language_info": {
   "codemirror_mode": {
    "name": "ipython",
    "version": 3
   },
   "file_extension": ".py",
   "mimetype": "text/x-python",
   "name": "python",
   "nbconvert_exporter": "python",
   "pygments_lexer": "ipython3",
   "version": "3.7.10"
  }
 },
 "nbformat": 4,
 "nbformat_minor": 5
}
